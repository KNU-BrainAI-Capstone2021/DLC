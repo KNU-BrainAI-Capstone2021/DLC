{
 "cells": [
  {
   "cell_type": "code",
   "execution_count": 1,
   "id": "6014c168",
   "metadata": {},
   "outputs": [],
   "source": [
    "import cv2\n",
    "import numpy as np\n",
    "\n",
    "# Load Yolo\n",
    "net = cv2.dnn.readNet(\"yolov3-df2_15000.weights\", \"yolov3-df2.cfg\")\n",
    "classes = [] \n",
    "with open(\"df2.names\", \"r\") as f: classes = [line.strip() for line in f.readlines()]\n",
    "layer_names = net.getLayerNames()\n",
    "output_layers = [layer_names[i[0] - 1] for i in net.getUnconnectedOutLayers()] \n",
    "colors = np.random.uniform(0, 255, size=(len(classes), 3))\n",
    "# Loading image\n",
    "\n",
    "\n",
    "img = cv2.imread(\"6c75bff430dec451d49f6f90c1753f40.jpg\") \n",
    
    #필터 1 블러링(low pass filter) 3x3 - 노이즈 제거: 효과는 없었다.
    #rows, cols = img.shape[:2]
    #low_pass_filter_3x3 = np.ones((3, 3), np.float32) / 9.0
    #dst = cv2.filter2D(img, -1, low_pass_filter_3x3)
    #img = dst//
    "\n",
    #필터 2 샤프닝 : 효과는 없었다.
    #img = cv2.imread("6c75bff430dec451d49f6f90c1753f40.jpg") 
    #sharpening_2 = np.array([[-1, -1, -1, -1, -1],
                         [-1, 2, 2, 2, -1],
                         [-1, 2, 9, 2, -1],
                         [-1, 2, 2, 2, -1],
                         [-1, -1, -1, -1, -1]]) / 9.0

    #dst = cv2.filter2D(img, -1, sharpening_2)
    #img = dst
    "\n",
    "img = cv2.resize(img, None, fx=1.2, fy=1.2) \n",
    "height, width, channels = img.shape\n",
    "# Detecting objects \n",
    "blob = cv2.dnn.blobFromImage(img, 0.00392, (416, 416), (0, 0, 0), True, crop=False) \n",
    "net.setInput(blob) \n",
    "outs = net.forward(output_layers)\n",
    "# Showing informations on the screen \n",
    "class_ids = []\n",
    "confidences = []\n",
    "boxes = []\n",
    "for out in outs:\n",
    "    for detection in out:\n",
    "        scores = detection[5:]\n",
    "        class_id = np.argmax(scores) \n",
    "        confidence = scores[class_id] \n",
    "        if confidence > 0.5: #confidence 값이 1에 가까우면 정확도가 높아지고, 0에 가까우면 정확도가 떨어지지만 검출되는 개체 수가 많아진다.\n",
    "            # Object detected \n",
    "            center_x = int(detection[0] * width) \n",
    "            center_y = int(detection[1] * height) \n",
    "            w = int(detection[2] * width) \n",
    "            h = int(detection[3] * height) \n",
    "            # Rectangle coordinates \n",
    "            x = int(center_x - w / 2) \n",
    "            y = int(center_y - h / 2) \n",
    "            boxes.append([x, y, w, h]) \n",
    "            confidences.append(float(confidence)) \n",
    "            class_ids.append(class_id)\n",
    "#중복박스제거코드            \n",
    "indexes = cv2.dnn.NMSBoxes(boxes, confidences, 0.5, 0.4)\n",
    "\n",
    "font = cv2.FONT_HERSHEY_PLAIN \n",
    "for i in range(len(boxes)): \n",
    "    if i in indexes: x, y, w, h = boxes[i] \n",
    "    label = str(classes[class_ids[i]]) \n",
    "    color = colors[i] \n",
    "    cv2.rectangle(img, (x, y), (x + w, y + h), color, 2) \n",
    "    cv2.putText(img, label, (x, y + 30), font, 3, color, 3) \n",
    "cv2.imshow(\"Image\", img) \n",
    "cv2.waitKey(0) \n",
    "cv2.destroyAllWindows()"
   ]
  },
  {
   "cell_type": "code",
   "execution_count": null,
   "id": "bb584685",
   "metadata": {},
   "outputs": [],
   "source": []
  }
 ],
 "metadata": {
  "kernelspec": {
   "display_name": "Python 3",
   "language": "python",
   "name": "python3"
  },
  "language_info": {
   "codemirror_mode": {
    "name": "ipython",
    "version": 3
   },
   "file_extension": ".py",
   "mimetype": "text/x-python",
   "name": "python",
   "nbconvert_exporter": "python",
   "pygments_lexer": "ipython3",
   "version": "3.8.8"
  }
 },
 "nbformat": 4,
 "nbformat_minor": 5
}

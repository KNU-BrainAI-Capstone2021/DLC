{
 "cells": [
  {
   "cell_type": "code",
   "execution_count": 1,
   "id": "d64e4153",
   "metadata": {},
   "outputs": [],
   "source": [
    "import cv2\n",
    "import numpy as np\n",
    "import os\n",
    "import mediapipe as mp\n",
    "\n",
    "from closet_module import capture_module as cm\n",
    "from closet_module import pose_module as pm\n",
    "from closet_module import synthesis_module as sm\n",
    "from closet_module import yolo_module as ym\n",
    "from closet_module import cut_img_module as cim\n",
    "from closet_module import grab_cut_module as gm\n",
    "from closet_module import resize as re"
   ]
  },
  {
   "cell_type": "code",
   "execution_count": 2,
   "id": "9335ba49",
   "metadata": {},
   "outputs": [],
   "source": [
    "#아바타 선택 함수\n",
    "def choice_avatar():\n",
    "    path = 'C:\\\\Users\\\\lky\\\\DeepLearning\\\\smart_closet\\\\img_lib\\Avatar\\\\'\n",
    "    file_list = os.listdir(path)\n",
    "    \n",
    "    img_list=[]\n",
    "    for i in range (len(file_list)):\n",
    "        img=cv2.imread(path+f'Avatar{i+1}.png')\n",
    "        img_list.append(img)\n",
    "        cv2.imshow(f'Avatar{i+1}',img_list[i])\n",
    "    \n",
    "    cv2.waitKey()\n",
    "    cv2.destroyAllWindows()\n",
    "    \n",
    "    num = input('원하는 아바타를 선택하여 주십시요:')\n",
    "    avatar = path + f'Avatar{int(num)}.png'\n",
    "    \n",
    "    return avatar"
   ]
  },
  {
   "cell_type": "code",
   "execution_count": 3,
   "id": "da85fc94",
   "metadata": {},
   "outputs": [],
   "source": [
    "#옷 카테고리 선택 함수\n",
    "def choice_category():\n",
    "    classes=['short sleeve top','long sleeve top','short sleeve outwear','long sleeve outwear','vest','sling','shorts','trousers','skirt','short sleeve dress','long sleeve dress','vest dress','sling dress']\n",
    "    print('0:short sleeve top\\n1:long sleeve top\\n2:short sleeve outwear\\n3:long sleeve outwear\\n4:vest\\n5:sling\\n6:shorts\\n7:trousers\\n8:skirt\\n9:short sleeve dress\\n10:long sleeve dress\\n11:vest dress\\n12:sling dress')\n",
    "    num = input('옷의 종류를 선택해 주십시요:')\n",
    "    i = int(num)\n",
    "    label = classes[i]\n",
    "    \n",
    "    return label"
   ]
  },
  {
   "cell_type": "code",
   "execution_count": 4,
   "id": "503a1980",
   "metadata": {},
   "outputs": [],
   "source": [
    "def choice_cloth(label):\n",
    "    cloth_list=[]\n",
    "    path='C:\\\\Users\\\\lky\\\\DeepLearning\\\\smart_closet\\\\img_lib\\\\cut_img\\\\'+label\n",
    "    \n",
    "    cloth_list = os.listdir(path)\n",
    "    \n",
    "    print(cloth_list)\n",
    "        \n",
    "    img = input('옷을 선택하여 주십시요:')\n",
    "    cloth = path+'\\\\'+img\n",
    "    \n",
    "    return cloth"
   ]
  },
  {
   "cell_type": "code",
   "execution_count": 5,
   "id": "640cc27c",
   "metadata": {},
   "outputs": [
    {
     "name": "stdout",
     "output_type": "stream",
     "text": [
      "원하는 아바타를 선택하여 주십시요:1\n",
      "C:\\Users\\lky\\DeepLearning\\smart_closet\\img_lib\\Avatar\\Avatar1.png\n"
     ]
    }
   ],
   "source": [
    "##################################\n",
    "#        아바타 정하기           #\n",
    "##################################\n",
    "avatar_path=choice_avatar()\n",
    "print(avatar_path)"
   ]
  },
  {
   "cell_type": "code",
   "execution_count": 5,
   "id": "93a7ec5d",
   "metadata": {},
   "outputs": [
    {
     "name": "stdout",
     "output_type": "stream",
     "text": [
      "q=캡쳐 후 종료,w=종료\n"
     ]
    }
   ],
   "source": [
    "##############################\n",
    "#     아바타 캡쳐 과정       #\n",
    "##############################\n",
    "cm.cap()"
   ]
  },
  {
   "cell_type": "code",
   "execution_count": 6,
   "id": "e284b0b6",
   "metadata": {},
   "outputs": [],
   "source": [
    "####################################\n",
    "#          옷 추출 과정            #\n",
    "####################################\n",
    "#포즈로 웹캠 캡쳐하기\n",
    "pm.check_image_angle(avatar_path)\n",
    "cap_img=pm.video_angle()"
   ]
  },
  {
   "cell_type": "code",
   "execution_count": 7,
   "id": "f4887dea",
   "metadata": {},
   "outputs": [
    {
     "name": "stdout",
     "output_type": "stream",
     "text": [
      "원하는 옷의 종류를 선택하여 주십시요:\n",
      "0번:long sleeve top \n",
      "0\n"
     ]
    }
   ],
   "source": [
    "#옷 detecting 과정\n",
    "cloth_det=ym.detect_cloth(cap_img)"
   ]
  },
  {
   "cell_type": "code",
   "execution_count": 8,
   "id": "05d4a46c",
   "metadata": {},
   "outputs": [
    {
     "name": "stdout",
     "output_type": "stream",
     "text": [
      "오른쪽 마우스 버튼을 누르고 영역을 지정한 후 n을 누르세요\n",
      "n:적용하기\n",
      "0:제거배경선택 1:복원전경선택 n:적용하기 r:리셋 s:저장 q:종료\n",
      "왼쪽 마우스로 제거할 부분을 표시한 후 n을 누르세요\n",
      "0:제거배경선택 1:복원전경선택 n:적용하기 r:리셋 s:저장 q:종료\n",
      "0:제거배경선택 1:복원전경선택 n:적용하기 r:리셋 s:저장 q:종료\n",
      "0:제거배경선택 1:복원전경선택 n:적용하기 r:리셋 s:저장 q:종료\n",
      "0:제거배경선택 1:복원전경선택 n:적용하기 r:리셋 s:저장 q:종료\n",
      "0:제거배경선택 1:복원전경선택 n:적용하기 r:리셋 s:저장 q:종료\n",
      "0:제거배경선택 1:복원전경선택 n:적용하기 r:리셋 s:저장 q:종료\n",
      "왼족 마우스로 복원할 부분을 표시한 후 n을 누르세요\n",
      "0:제거배경선택 1:복원전경선택 n:적용하기 r:리셋 s:저장 q:종료\n",
      "0:제거배경선택 1:복원전경선택 n:적용하기 r:리셋 s:저장 q:종료\n",
      "0:제거배경선택 1: 복원전경선택 n:적용하기 r:리셋 s:저장 q:종료\n"
     ]
    }
   ],
   "source": [
    "#grab_cut알고리즘으로 옷 추출\n",
    "grab_img = gm.grabcut(cap_img,cloth_det[0],cloth_det[1],cloth_det[2],cloth_det[3])\n",
    "avatar_img=cv2.imread(avatar_path)"
   ]
  },
  {
   "cell_type": "code",
   "execution_count": 9,
   "id": "9b039327",
   "metadata": {},
   "outputs": [
    {
     "name": "stdout",
     "output_type": "stream",
     "text": [
      "1:top, 2:bottom\n",
      "원하는 옷의 위치를 선택하여 주세요:1\n",
      "원하는 옷의 종류를 선택하여 주십시요:\n",
      "0번:short sleeve top 1번:short sleeve top 2번:trousers 3번:trousers \n",
      "0\n",
      "원하는 옷의 종류를 선택하여 주십시요:\n",
      "0번:long sleeve top \n",
      "0\n"
     ]
    }
   ],
   "source": [
    "print('1:top, 2:bottom')\n",
    "a=input('원하는 옷의 위치를 선택하여 주세요:')\n",
    "if a == '1':\n",
    "    choice='top'\n",
    "elif a == '2':\n",
    "    choice='bottom'\n",
    "    \n",
    "resize=re.resize(avatar_img,cap_img,grab_img,choice)\n",
    "cut_img=resize.cut()\n",
    "\n",
    "#추출한 옷 저장\n",
    "save_path='C:\\\\Users\\\\lky\\\\DeepLearning\\\\smart_closet\\\\img_lib\\\\cut_img\\\\'\n",
    "\n",
    "i=1\n",
    "while(True):\n",
    "    file = save_path+resize.cloth_position[4]+'\\\\'+resize.cloth_position[4]+f'{i}'+'.png'\n",
    "    if os.path.isfile(file):\n",
    "        i+=1\n",
    "        continue\n",
    "    cv2.imwrite(save_path+resize.cloth_position[4]+'\\\\'+resize.cloth_position[4]+f'{i}'+'.png',cut_img)\n",
    "    break"
   ]
  },
  {
   "cell_type": "code",
   "execution_count": 10,
   "id": "7f98e52f",
   "metadata": {},
   "outputs": [
    {
     "name": "stdout",
     "output_type": "stream",
     "text": [
      "원하는 아바타를 선택하여 주십시요:1\n",
      "원하는 옷의 종류를 선택하여 주십시요:\n",
      "0번:short sleeve top 1번:short sleeve top 2번:trousers 3번:trousers \n",
      "0\n",
      "n:합성, q:종료n\n",
      "0:short sleeve top\n",
      "1:long sleeve top\n",
      "2:short sleeve outwear\n",
      "3:long sleeve outwear\n",
      "4:vest\n",
      "5:sling\n",
      "6:shorts\n",
      "7:trousers\n",
      "8:skirt\n",
      "9:short sleeve dress\n",
      "10:long sleeve dress\n",
      "11:vest dress\n",
      "12:sling dress\n",
      "옷의 종류를 선택해 주십시요:1\n",
      "['long sleeve top1.png', 'long sleeve top2.png', 'long sleeve top3.png', 'long sleeve top4.png', 'long sleeve top5.png', 'long sleeve top6.png']\n",
      "옷을 선택하여 주십시요:long sleeve top6.png\n",
      "n:합성 ,q:종료\n",
      "n:합성, q:종료q\n"
     ]
    }
   ],
   "source": [
    "####################################################\n",
    "#                   옷 피팅 과정                   #\n",
    "####################################################\n",
    "path1=choice_avatar()\n",
    "avatar=cv2.imread(path1)\n",
    "avatar_position=ym.detect_cloth(avatar)\n",
    "while True:\n",
    "    k =input('n:합성, q:종료')\n",
    "    \n",
    "    if k == 'n':\n",
    "        label=choice_category()\n",
    "        cloth_path=choice_cloth(label)\n",
    "        \n",
    "        #합성할 이미지 경로\n",
    "        cap_img=cv2.imread(cloth_path)\n",
    "\n",
    "        #이미지 합성\n",
    "        syn_img = sm.synthesis(avatar_position[0],avatar_position[1],avatar,cloth_path)\n",
    "        print('n:합성 ,q:종료')\n",
    "        avatar=syn_img\n",
    "    \n",
    "    elif k == 'q':\n",
    "        break\n",
    "        \n",
    "cv2.imshow('img',avatar)\n",
    "cv2.waitKey()\n",
    "cv2.destroyAllWindows()\n",
    "        "
   ]
  },
  {
   "cell_type": "code",
   "execution_count": null,
   "id": "e66f8aee",
   "metadata": {},
   "outputs": [],
   "source": []
  }
 ],
 "metadata": {
  "kernelspec": {
   "display_name": "Python 3",
   "language": "python",
   "name": "python3"
  },
  "language_info": {
   "codemirror_mode": {
    "name": "ipython",
    "version": 3
   },
   "file_extension": ".py",
   "mimetype": "text/x-python",
   "name": "python",
   "nbconvert_exporter": "python",
   "pygments_lexer": "ipython3",
   "version": "3.8.8"
  }
 },
 "nbformat": 4,
 "nbformat_minor": 5
}

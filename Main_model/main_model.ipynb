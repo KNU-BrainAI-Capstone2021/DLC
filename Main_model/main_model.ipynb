{
 "cells": [
  {
   "cell_type": "code",
   "execution_count": 1,
   "id": "d64e4153",
   "metadata": {},
   "outputs": [],
   "source": [
    "import cv2\n",
    "import numpy as np\n",
    "import os\n",
    "import mediapipe as mp\n",
    "\n",
    "from closet_module import capture_module as cm\n",
    "from closet_module import pose_module as pm\n",
    "from closet_module import synthesis_module as sm\n",
    "from closet_module import yolo_module as ym\n",
    "from closet_module import cut_img_module as cim\n",
    "from closet_module import grab_cut_module as gm"
   ]
  },
  {
   "cell_type": "code",
   "execution_count": 5,
   "id": "9335ba49",
   "metadata": {},
   "outputs": [],
   "source": [
    "def avatar_path():\n",
    "    num = input('원하는 아바타를 선택하여 주십시요:')\n",
    "    i = int(num)\n",
    "    file = 'C:\\\\Users\\\\lky\\\\DeepLearning\\\\smart_closet\\\\img_lib\\Avatar\\\\' + f'Avatar{i}.png'\n",
    "    if os.path.isfile(file):\n",
    "        path = 'C:\\\\Users\\\\lky\\\\DeepLearning\\\\smart_closet\\\\img_lib\\Avatar\\\\' + f'Avatar{i}.png'\n",
    "    return path"
   ]
  },
  {
   "cell_type": "code",
   "execution_count": null,
   "id": "93a7ec5d",
   "metadata": {},
   "outputs": [],
   "source": [
    "#아바타 캡쳐 과정\n",
    "cm.cap()"
   ]
  },
  {
   "cell_type": "code",
   "execution_count": 6,
   "id": "640cc27c",
   "metadata": {},
   "outputs": [
    {
     "name": "stdout",
     "output_type": "stream",
     "text": [
      "원하는 아바타를 선택하여 주십시요:1\n",
      "C:\\Users\\lky\\DeepLearning\\smart_closet\\img_lib\\Avatar\\Avatar1.png\n"
     ]
    }
   ],
   "source": [
    "#아바타 정하기\n",
    "avatar_path=avatar_path()\n",
    "print(a)"
   ]
  },
  {
   "cell_type": "code",
   "execution_count": 2,
   "id": "c33a6e7c",
   "metadata": {},
   "outputs": [],
   "source": [
    "#포즈로 웹캠 캡쳐하기\n",
    "pm.video_angle()"
   ]
  },
  {
   "cell_type": "code",
   "execution_count": 5,
   "id": "68f52398",
   "metadata": {},
   "outputs": [],
   "source": [
    "#옷 detecting 과정\n",
    "file_path='clothes_avatar_test.png'\n",
    "choice='long sleeve top'\n",
    "ym.detect_cloth(file_path,choice)"
   ]
  },
  {
   "cell_type": "code",
   "execution_count": 2,
   "id": "0a1dca90",
   "metadata": {},
   "outputs": [
    {
     "name": "stdout",
     "output_type": "stream",
     "text": [
      "오른쪽 마우스 버튼을 누르고 영역을 지정한 후 n을 누르세요\n"
     ]
    }
   ],
   "source": [
    "#grab_cut\n",
    "grab_cut_path='clothes_avatar_test.png'\n",
    "gm.grabcut(grab_cut_path)"
   ]
  },
  {
   "cell_type": "code",
   "execution_count": 4,
   "id": "c245876f",
   "metadata": {},
   "outputs": [
    {
     "name": "stdout",
     "output_type": "stream",
     "text": [
      "(423, 179)\n",
      "(432, 174)\n"
     ]
    }
   ],
   "source": [
    "#좌표구하는과정\n",
    "path_avatar='cap_avatar.png'\n",
    "path_cloth='clothes_avatar_test.png'\n",
    "avatar_rs_land=pm.check_landmark(path_avatar)\n",
    "cloth_re_land=pm.check_landmark(path_cloth)"
   ]
  },
  {
   "cell_type": "code",
   "execution_count": 17,
   "id": "e5d32673",
   "metadata": {},
   "outputs": [],
   "source": [
    "a=cloth_re_land[0]-ym.box_x\n",
    "b=cloth_re_land[1]-ym.box_y"
   ]
  },
  {
   "cell_type": "code",
   "execution_count": null,
   "id": "b570bbd1",
   "metadata": {},
   "outputs": [],
   "source": [
    "#이미지 자르는 과정\n",
    "cut_path='top_contour.png'\n",
    "cm.cut_img(ym.box_x,ym.box_y,ym.box_w,ym.box_h,cut_path)"
   ]
  },
  {
   "cell_type": "code",
   "execution_count": 22,
   "id": "e41eb916",
   "metadata": {},
   "outputs": [],
   "source": [
    "#합성할 이미지 경로\n",
    "path1='cap_avatar.png'\n",
    "path2='cut_test.png'"
   ]
  },
  {
   "cell_type": "code",
   "execution_count": 20,
   "id": "a4e122b1",
   "metadata": {},
   "outputs": [],
   "source": [
    "#합성좌표\n",
    "syn_x=avatar_rs_land[0]-a\n",
    "syn_y=avatar_rs_land[1]-b"
   ]
  },
  {
   "cell_type": "code",
   "execution_count": 23,
   "id": "7f98e52f",
   "metadata": {},
   "outputs": [],
   "source": [
    "#이미지 합성\n",
    "sm.synthesis(syn_x,syn_y,path1,path2)"
   ]
  }
 ],
 "metadata": {
  "kernelspec": {
   "display_name": "Python 3",
   "language": "python",
   "name": "python3"
  },
  "language_info": {
   "codemirror_mode": {
    "name": "ipython",
    "version": 3
   },
   "file_extension": ".py",
   "mimetype": "text/x-python",
   "name": "python",
   "nbconvert_exporter": "python",
   "pygments_lexer": "ipython3",
   "version": "3.8.8"
  }
 },
 "nbformat": 4,
 "nbformat_minor": 5
}
